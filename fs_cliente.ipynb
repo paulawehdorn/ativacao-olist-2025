{
 "cells": [
  {
   "cell_type": "code",
   "execution_count": 0,
   "metadata": {
    "application/vnd.databricks.v1+cell": {
     "cellMetadata": {},
     "inputWidgets": {},
     "nuid": "1c3b944a-4f76-4cc3-a4b4-79fcf412fad1",
     "showTitle": false,
     "tableResultSettingsMap": {},
     "title": ""
    }
   },
   "outputs": [],
   "source": [
    "WITH transacoes AS (\n",
    "    SELECT  \n",
    "        v.idVendedor AS vendedor, \n",
    "        v.descUF AS UfVendedor, \n",
    "        c.idClienteUnico AS cliente, \n",
    "        c.descUF AS UfCliente, \n",
    "        date_format(p.dtPedido, 'yyyy-MM') AS mesAno\n",
    "    FROM silver.olist.pedido p\n",
    "    JOIN silver.olist.item_pedido i ON i.idPedido = p.idPedido\n",
    "    JOIN silver.olist.cliente c ON c.idCliente = p.idCliente\n",
    "    JOIN silver.olist.vendedor v ON v.idVendedor = i.idVendedor\n",
    "    WHERE p.descSituacao <> 'canceled'\n",
    "      AND p.dtPedido BETWEEN '2018-01-01' AND '2018-07-02' -- Últimos 6 meses\n",
    "),\n",
    "acum AS (\n",
    "    SELECT \n",
    "        t.vendedor, \n",
    "        t.cliente, \n",
    "        t.UfCliente, \n",
    "        t.mesAno, \n",
    "        COUNT(*) AS comprasNoMes,\n",
    "        SUM(COUNT(*)) OVER (PARTITION BY t.vendedor, t.cliente ORDER BY t.mesAno ROWS BETWEEN 6 PRECEDING AND 1 PRECEDING) AS comprasUltimos6Meses\n",
    "    FROM transacoes t\n",
    "    GROUP BY t.vendedor, t.cliente, t.UfCliente, t.mesAno\n",
    "),\n",
    "classificacao AS (\n",
    "    SELECT \n",
    "        a.vendedor, \n",
    "        a.cliente, \n",
    "        a.UfCliente, \n",
    "        a.mesAno, \n",
    "        a.comprasNoMes,\n",
    "        a.comprasUltimos6Meses,\n",
    "        CASE \n",
    "            WHEN a.comprasNoMes > 0 AND a.comprasUltimos6Meses IS NULL THEN 'Cliente Novo'\n",
    "            WHEN a.comprasNoMes = 1 AND a.comprasUltimos6Meses = 1 THEN 'Cliente Pontual'\n",
    "            WHEN a.comprasNoMes > 0 AND a.comprasUltimos6Meses >= 2 THEN 'Cliente Recorrente'\n",
    "            ELSE 'Outro'\n",
    "        END AS categoriaCliente\n",
    "    FROM acum a\n",
    ")\n",
    "SELECT \n",
    "    '2018-06' AS referencia, \n",
    "    c.vendedor, \n",
    "    c.cliente, \n",
    "    c.UfCliente, \n",
    "    c.mesAno, \n",
    "    c.comprasNoMes, \n",
    "    c.comprasUltimos6Meses, \n",
    "    c.categoriaCliente\n",
    "FROM classificacao c\n",
    "WHERE c.mesAno = '2018-06'\n",
    "ORDER BY  c.mesAno, c.vendedor"
   ]
  }
 ],
 "metadata": {
  "application/vnd.databricks.v1+notebook": {
   "computePreferences": null,
   "dashboards": [],
   "environmentMetadata": {
    "base_environment": "",
    "environment_version": "2"
   },
   "language": "sql",
   "notebookMetadata": {},
   "notebookName": "fs_cliente",
   "widgets": {}
  },
  "language_info": {
   "name": "sql"
  }
 },
 "nbformat": 4,
 "nbformat_minor": 0
}
